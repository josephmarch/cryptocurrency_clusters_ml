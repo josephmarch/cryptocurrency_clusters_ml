{
 "cells": [
  {
   "cell_type": "markdown",
   "id": "20ebbf65",
   "metadata": {},
   "source": [
    "# Cryptocurrency Clusters Machine Learning"
   ]
  },
  {
   "cell_type": "markdown",
   "id": "09e352ca",
   "metadata": {},
   "source": [
    "## Data Preparation"
   ]
  },
  {
   "cell_type": "code",
   "execution_count": null,
   "id": "75a751fd",
   "metadata": {},
   "outputs": [],
   "source": [
    "# Dependencies\n"
   ]
  },
  {
   "cell_type": "code",
   "execution_count": null,
   "id": "3d705b30",
   "metadata": {},
   "outputs": [],
   "source": [
    "# Read crypto_data.csv into Pandas\n",
    "# The dataset was obtained from: https://min-api.cryptocompare.com/data/all/coinlist\n"
   ]
  },
  {
   "cell_type": "code",
   "execution_count": null,
   "id": "45ae1992",
   "metadata": {},
   "outputs": [],
   "source": [
    "# Discard all cryptocurrencies that are not being traded and drop the IsTrading column from the dataframe\n"
   ]
  },
  {
   "cell_type": "code",
   "execution_count": null,
   "id": "a58e0d4d",
   "metadata": {},
   "outputs": [],
   "source": [
    "# Remove all rows that have at least one null value\n"
   ]
  },
  {
   "cell_type": "code",
   "execution_count": null,
   "id": "64183e63",
   "metadata": {},
   "outputs": [],
   "source": [
    "# Filter for cryptocurrencies that have been mined (the total coins mined should be greater than zero)\n"
   ]
  },
  {
   "cell_type": "code",
   "execution_count": null,
   "id": "1b01f9fa",
   "metadata": {},
   "outputs": [],
   "source": [
    "# Delete the CoinName from the original dataframe\n"
   ]
  },
  {
   "cell_type": "code",
   "execution_count": null,
   "id": "cae9bf5a",
   "metadata": {},
   "outputs": [],
   "source": [
    "# Convert Algorithm and ProofType into numerical data\n",
    "# Use Pandas to create dummy variables\n",
    "# Examine the number of rows and columns of your dataset now. How did they change?\n"
   ]
  },
  {
   "cell_type": "markdown",
   "id": "0102165a",
   "metadata": {},
   "source": [
    "### Changes:"
   ]
  },
  {
   "cell_type": "code",
   "execution_count": null,
   "id": "a75d11f7",
   "metadata": {},
   "outputs": [],
   "source": [
    "# Standardize the dataset so columns that contain larger values do not unduly influence the outcome\n"
   ]
  },
  {
   "cell_type": "markdown",
   "id": "c8eb384f",
   "metadata": {},
   "source": [
    "## Dimensionality Reduction"
   ]
  },
  {
   "cell_type": "code",
   "execution_count": null,
   "id": "17e280a0",
   "metadata": {},
   "outputs": [],
   "source": [
    "# Perform dimensionality reduction with PCA (preserve 90% of the explained variance)\n",
    "\n",
    "# (Rather than specify the number of principal components when you instantiate the PCA model,\n",
    "# it is possible to state the desired explained variance. For example, say that a dataset has 100 features.\n",
    "# Using PCA(n_components=0.99) creates a model that will preserve approximately 99% of the explained variance,\n",
    "# whether that means reducing the dataset to 80 principal components or 3. For this project,\n",
    "# preserve 90% of the explained variance in dimensionality reduction.)"
   ]
  },
  {
   "cell_type": "markdown",
   "id": "cae6fa22",
   "metadata": {},
   "source": [
    "### Changes:"
   ]
  },
  {
   "cell_type": "code",
   "execution_count": null,
   "id": "1bcfa586",
   "metadata": {},
   "outputs": [],
   "source": [
    "# Further reduce the dataset dimensions with t-SNE\n",
    "# Run t-SNE on the principal components: the output of the PCA transformation\n"
   ]
  },
  {
   "cell_type": "code",
   "execution_count": null,
   "id": "e0e2a6a1",
   "metadata": {},
   "outputs": [],
   "source": [
    "# Create a scatter plot of the t-SNE output (observe whether there are distinct clusters or not)\n"
   ]
  },
  {
   "cell_type": "markdown",
   "id": "ff834850",
   "metadata": {},
   "source": [
    "## Cluster Analysis with k-Means"
   ]
  },
  {
   "cell_type": "code",
   "execution_count": null,
   "id": "e3673a76",
   "metadata": {},
   "outputs": [],
   "source": [
    "# Create an elbow plot to identify the best number of clusters\n"
   ]
  },
  {
   "cell_type": "code",
   "execution_count": null,
   "id": "e1bb52fb",
   "metadata": {},
   "outputs": [],
   "source": [
    "# Use a for-loop to determine the inertia for each k between 1 through 10\n",
    "# Determine, if possible, where the elbow of the plot is, and at which value of k it appears\n"
   ]
  },
  {
   "cell_type": "markdown",
   "id": "eb190f6b",
   "metadata": {},
   "source": [
    "## Recommendation"
   ]
  }
 ],
 "metadata": {
  "kernelspec": {
   "display_name": "Python 3",
   "language": "python",
   "name": "python3"
  },
  "language_info": {
   "codemirror_mode": {
    "name": "ipython",
    "version": 3
   },
   "file_extension": ".py",
   "mimetype": "text/x-python",
   "name": "python",
   "nbconvert_exporter": "python",
   "pygments_lexer": "ipython3",
   "version": "3.8.8"
  }
 },
 "nbformat": 4,
 "nbformat_minor": 5
}
